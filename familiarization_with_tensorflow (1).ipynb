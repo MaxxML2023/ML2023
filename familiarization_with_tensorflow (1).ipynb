{
  "nbformat": 4,
  "nbformat_minor": 0,
  "metadata": {
    "colab": {
      "provenance": []
    },
    "kernelspec": {
      "name": "python3",
      "display_name": "Python 3"
    },
    "language_info": {
      "name": "python"
    }
  },
  "cells": [
    {
      "cell_type": "code",
      "execution_count": 4,
      "metadata": {
        "colab": {
          "base_uri": "https://localhost:8080/"
        },
        "id": "wlyNH1Sir8Pp",
        "outputId": "e709ad2e-20b0-461a-f4bb-bd0c27763c8e"
      },
      "outputs": [
        {
          "output_type": "stream",
          "name": "stdout",
          "text": [
            "Element-wise Addition Result:\n",
            "[[ 6  8]\n",
            " [10 12]]\n",
            "\n",
            "Matrix Inverse Result:\n",
            "[[-2.0000002   1.0000001 ]\n",
            " [ 1.5000001  -0.50000006]]\n",
            "\n",
            "Element-wise Multiplication Result:\n",
            "[[ 5 12]\n",
            " [21 32]]\n"
          ]
        }
      ],
      "source": [
        "import tensorflow as tf\n",
        "\n",
        "# Ознайомлення з TensorFlow:\n",
        "# Згенеруємо тензори та виконаємо операції\n",
        "tensor_a = tf.constant([[1, 2], [3, 4]])\n",
        "tensor_b = tf.constant([[5, 6], [7, 8]])\n",
        "\n",
        "# Виконаємо операцію додавання (element-wise addition)\n",
        "addition_result = tf.add(tensor_a, tensor_b)\n",
        "\n",
        "# Виконаємо операцію взяття оберненої матриці\n",
        "matrix_inverse_result = tf.linalg.inv(tf.cast(tensor_a, dtype=tf.float32))\n",
        "\n",
        "# Виконаємо операцію елементного множення\n",
        "elementwise_multiplication_result = tf.multiply(tensor_a, tensor_b)\n",
        "\n",
        "print(\"Element-wise Addition Result:\")\n",
        "print(addition_result.numpy())\n",
        "\n",
        "print(\"\\nMatrix Inverse Result:\")\n",
        "print(matrix_inverse_result.numpy())\n",
        "\n",
        "print(\"\\nElement-wise Multiplication Result:\")\n",
        "print(elementwise_multiplication_result.numpy())\n",
        "\n"
      ]
    }
  ]
}