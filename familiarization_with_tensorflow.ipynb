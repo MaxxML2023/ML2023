{
  "nbformat": 4,
  "nbformat_minor": 0,
  "metadata": {
    "colab": {
      "provenance": []
    },
    "kernelspec": {
      "name": "python3",
      "display_name": "Python 3"
    },
    "language_info": {
      "name": "python"
    }
  },
  "cells": [
    {
      "cell_type": "code",
      "execution_count": null,
      "metadata": {
        "id": "wlyNH1Sir8Pp"
      },
      "outputs": [],
      "source": [
        "# Ознайомлення з TensorFlow:\n",
        "# Згенеруємо тензори та виконаємо операції\n",
        "tensor_a = tf.constant([[1, 2], [3, 4]])\n",
        "tensor_b = tf.constant([[5, 6], [7, 8]])\n",
        "result_tensor = tf.matmul(tensor_a, tensor_b)\n",
        "print(result_tensor.numpy())"
      ]
    }
  ]
}