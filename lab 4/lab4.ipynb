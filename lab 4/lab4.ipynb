{
 "cells": [
  {
   "cell_type": "code",
   "execution_count": null,
   "id": "fba5177d",
   "metadata": {},
   "outputs": [],
   "source": [
    "#a. Створення тензорів:\n",
    "\n",
    "#Створення скаляра (скалярний тензор):\n",
    "import tensorflow as tf\n",
    "\n",
    "scalar_tensor = tf.constant(5.0)  # Створення скаляра зі значенням 5.0\n"
   ]
  },
  {
   "cell_type": "code",
   "execution_count": null,
   "id": "48ca2c2e",
   "metadata": {},
   "outputs": [],
   "source": [
    "#Створення вектора (векторний тензор):\n",
    "import tensorflow as tf\n",
    "\n",
    "vector_tensor = tf.constant([1, 2, 3])  # Створення вектора зі значеннями 1, 2, 3\n"
   ]
  },
  {
   "cell_type": "code",
   "execution_count": null,
   "id": "200868b4",
   "metadata": {},
   "outputs": [],
   "source": [
    "#Створення матриці (матричний тензор):\n",
    "import tensorflow as tf\n",
    "\n",
    "matrix_tensor = tf.constant([[1, 2], [3, 4]])  # Створення матриці 2x2\n"
   ]
  },
  {
   "cell_type": "code",
   "execution_count": null,
   "id": "5f25ecc7",
   "metadata": {},
   "outputs": [],
   "source": [
    "#Використання випадкових значень:\n",
    "import tensorflow as tf\n",
    "\n",
    "random_tensor = tf.random.uniform(shape=(2, 2))  # Створення матриці 2x2 з випадковими значеннями\n"
   ]
  },
  {
   "cell_type": "code",
   "execution_count": null,
   "id": "189030f4",
   "metadata": {},
   "outputs": [],
   "source": [
    "#b. Операції з тензорами:\n",
    "#Операції додавання, віднімання, множення та ділення:\n",
    "import tensorflow as tf\n",
    "\n",
    "tensor_a = tf.constant([1, 2, 3])\n",
    "tensor_b = tf.constant([4, 5, 6])\n",
    "\n",
    "addition_result = tf.add(tensor_a, tensor_b)\n",
    "subtraction_result = tf.subtract(tensor_a, tensor_b)\n",
    "multiplication_result = tf.multiply(tensor_a, tensor_b)\n",
    "division_result = tf.divide(tensor_a, tensor_b)\n"
   ]
  },
  {
   "cell_type": "code",
   "execution_count": null,
   "id": "c766f861",
   "metadata": {},
   "outputs": [],
   "source": [
    "#Застосування математичних функцій:\n",
    "import tensorflow as tf\n",
    "\n",
    "tensor = tf.constant([0.0, 1.0, 2.0])\n",
    "sin_result = tf.math.sin(tensor)\n",
    "cos_result = tf.math.cos(tensor)\n"
   ]
  },
  {
   "cell_type": "code",
   "execution_count": null,
   "id": "cd3f3a2a",
   "metadata": {},
   "outputs": [],
   "source": [
    "#c. Індексація та зрізи:\n",
    "import tensorflow as tf\n",
    "\n",
    "tensor = tf.constant([1, 2, 3, 4, 5])\n",
    "element = tensor[2]  # Отримання третього елемента (індекс 2)\n",
    "subset = tensor[1:4]  # Зріз від другого до четвертого елемента\n"
   ]
  },
  {
   "cell_type": "code",
   "execution_count": null,
   "id": "08ae1371",
   "metadata": {},
   "outputs": [],
   "source": [
    "#d. Зміна форми тензорів (решейп):\n",
    "import tensorflow as tf\n",
    "\n",
    "tensor = tf.constant([1, 2, 3, 4, 5, 6])\n",
    "reshaped_tensor = tf.reshape(tensor, (2, 3))  # Змінити форму на матрицю 2x3\n"
   ]
  },
  {
   "cell_type": "code",
   "execution_count": null,
   "id": "d5dfa878",
   "metadata": {},
   "outputs": [],
   "source": [
    "#Регресія:\n",
    "import tensorflow as tf\n",
    "import numpy as np\n",
    "import matplotlib.pyplot as plt\n",
    "\n",
    "# Згенерувати синтетичний набір даних для регресії\n",
    "X = np.random.rand(100, 1)  # Ознаки\n",
    "y = 2 * X + 1 + 0.1 * np.random.randn(100, 1)  # Відповідні значення цільової змінної\n",
    "\n",
    "# Створити модель нейронної мережі для регресії\n",
    "model = tf.keras.models.Sequential([\n",
    "    tf.keras.layers.Dense(units=1, input_shape=(1,))\n",
    "])\n",
    "\n",
    "# Вибрати функцію втрати та оптимізатор\n",
    "model.compile(optimizer='sgd', loss='mean_squared_error')\n",
    "\n",
    "# Навчити модель\n",
    "model.fit(X, y, epochs=100)\n",
    "\n",
    "# Оцінити регресійну точність\n",
    "y_pred = model.predict(X)\n",
    "plt.scatter(X, y, label='Actual')\n",
    "plt.scatter(X, y_pred, label='Predicted')\n",
    "plt.legend()\n",
    "plt.show()\n"
   ]
  },
  {
   "cell_type": "code",
   "execution_count": null,
   "id": "6b5733c3",
   "metadata": {},
   "outputs": [],
   "source": [
    "#Класифікація:\n",
    "import tensorflow as tf\n",
    "from sklearn.datasets import make_classification\n",
    "from sklearn.model_selection import train_test_split\n",
    "from sklearn.metrics import accuracy_score\n",
    "\n",
    "# Згенерувати синтетичний набір даних для бінарної класифікації\n",
    "X, y = make_classification(n_samples=100, n_features=2, n_classes=2, n_clusters_per_class=1, random_state=42)\n",
    "X_train, X_test, y_train, y_test = train_test_split(X, y, test_size=0.2, random_state=42)\n",
    "\n",
    "# Створити модель нейронної мережі для класифікації\n",
    "model = tf.keras.models.Sequential([\n",
    "    tf.keras.layers.Dense(units=2, input_shape=(2,), activation='relu'),\n",
    "    tf.keras.layers.Dense(units=1, activation='sigmoid')\n",
    "])\n",
    "\n",
    "# Вибрати функцію втрати, оптимізатор та метрики\n",
    "model.compile(optimizer='adam', loss='binary_crossentropy', metrics=['accuracy'])\n",
    "\n",
    "# Навчити модель\n",
    "model.fit(X_train, y_train, epochs=50, verbose=0)\n",
    "\n",
    "# Оцінити класифікаційну точність\n",
    "y_pred = (model.predict(X_test) > 0.5).astype(int)\n",
    "accuracy = accuracy_score(y_test, y_pred)\n",
    "print(f'Accuracy: {accuracy}')\n"
   ]
  },
  {
   "cell_type": "code",
   "execution_count": null,
   "id": "4f63b125",
   "metadata": {},
   "outputs": [],
   "source": [
    "#Регресія:\n",
    "import numpy as np\n",
    "import matplotlib.pyplot as plt\n",
    "import seaborn as sns\n",
    "\n",
    "# Створення синтетичних даних для задачі регресії\n",
    "X = np.random.rand(100, 1)\n",
    "y = 2 * X + 1 + 0.1 * np.random.randn(100, 1)\n",
    "\n",
    "# Візуалізація даних\n",
    "plt.figure(figsize=(8, 6))\n",
    "sns.scatterplot(x=X[:,0], y=y[:,0])\n",
    "plt.title(\"Синтетичний набір даних для регресії\")\n",
    "plt.xlabel(\"Ознака X\")\n",
    "plt.ylabel(\"Цільова змінна y\")\n",
    "plt.show()\n",
    "\n",
    "# Побудова реальних та передбачених значень\n",
    "y_pred = model.predict(X)\n",
    "plt.figure(figsize=(8, 6))\n",
    "plt.scatter(X, y, label='Реальні значення', color='blue')\n",
    "plt.scatter(X, y_pred, label='Попередні значення', color='red')\n",
    "plt.legend()\n",
    "plt.title(\"Реальні та попередні значення для регресії\")\n",
    "plt.xlabel(\"Ознака X\")\n",
    "plt.ylabel(\"Значення y\")\n",
    "plt.show()\n"
   ]
  },
  {
   "cell_type": "code",
   "execution_count": null,
   "id": "1148b5c6",
   "metadata": {},
   "outputs": [],
   "source": [
    "#Класифікація:\n",
    "import matplotlib.pyplot as plt\n",
    "import seaborn as sns\n",
    "from sklearn.metrics import confusion_matrix\n",
    "import numpy as np\n",
    "\n",
    "# Візуалізація матриці плутанини для задачі класифікації\n",
    "y_pred = (model.predict(X_test) > 0.5).astype(int)\n",
    "cm = confusion_matrix(y_test, y_pred)\n",
    "\n",
    "plt.figure(figsize=(8, 6))\n",
    "sns.heatmap(cm, annot=True, fmt=\"d\", cmap=\"Blues\")\n",
    "plt.title(\"Матриця плутанини для класифікації\")\n",
    "plt.xlabel(\"Попереджена клас\")\n",
    "plt.ylabel(\"Фактичний клас\")\n",
    "plt.show()\n"
   ]
  }
 ],
 "metadata": {
  "kernelspec": {
   "display_name": "Python 3 (ipykernel)",
   "language": "python",
   "name": "python3"
  },
  "language_info": {
   "codemirror_mode": {
    "name": "ipython",
    "version": 3
   },
   "file_extension": ".py",
   "mimetype": "text/x-python",
   "name": "python",
   "nbconvert_exporter": "python",
   "pygments_lexer": "ipython3",
   "version": "3.11.4"
  }
 },
 "nbformat": 4,
 "nbformat_minor": 5
}
