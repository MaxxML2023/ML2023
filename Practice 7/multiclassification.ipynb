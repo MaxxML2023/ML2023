{
  "nbformat": 4,
  "nbformat_minor": 0,
  "metadata": {
    "colab": {
      "provenance": []
    },
    "kernelspec": {
      "name": "python3",
      "display_name": "Python 3"
    },
    "language_info": {
      "name": "python"
    }
  },
  "cells": [
    {
      "cell_type": "code",
      "execution_count": null,
      "metadata": {
        "id": "huZn8KH04h9Z"
      },
      "outputs": [],
      "source": [
        "import pandas as pd\n",
        "import numpy as np\n",
        "from sklearn.model_selection import train_test_split\n",
        "from tensorflow.keras.models import Sequential\n",
        "from tensorflow.keras.layers import Dense\n",
        "from tensorflow.keras.optimizers import Adam\n",
        "\n",
        "# Завантаження даних\n",
        "multi_data = pd.read_csv('multi_classification_data.csv')\n",
        "\n",
        "# Поділ даних на ознаки та мітки\n",
        "X = multi_data[['Attribute1', 'Attribute2']].values\n",
        "y = multi_data['Label'].values\n",
        "\n",
        "# Поділ на тренувальні та тестувальні дані\n",
        "X_train, X_test, y_train, y_test = train_test_split(X, y, test_size=0.2, random_state=42)\n",
        "\n",
        "# Конвертація міток у формат one-hot encoding для мультикласової класифікації\n",
        "num_classes = len(np.unique(y))\n",
        "y_train = pd.get_dummies(y_train).values\n",
        "y_test = pd.get_dummies(y_test).values\n",
        "\n",
        "# Побудова моделі нейронної мережі\n",
        "model = Sequential()\n",
        "model.add(Dense(64, activation='relu', input_shape=(2,)))\n",
        "model.add(Dense(32, activation='relu'))\n",
        "model.add(Dense(num_classes, activation='softmax'))\n",
        "\n",
        "# Компіляція моделі\n",
        "model.compile(optimizer=Adam(learning_rate=0.001), loss='categorical_crossentropy', metrics=['accuracy'])\n",
        "\n",
        "# Навчання моделі\n",
        "history = model.fit(X_train, y_train, epochs=50, batch_size=32, validation_data=(X_test, y_test), verbose=1)\n"
      ]
    }
  ]
}