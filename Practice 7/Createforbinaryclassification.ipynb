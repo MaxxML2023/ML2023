{
  "nbformat": 4,
  "nbformat_minor": 0,
  "metadata": {
    "colab": {
      "provenance": []
    },
    "kernelspec": {
      "name": "python3",
      "display_name": "Python 3"
    },
    "language_info": {
      "name": "python"
    }
  },
  "cells": [
    {
      "cell_type": "code",
      "execution_count": null,
      "metadata": {
        "id": "biL-Q0vx6CwB"
      },
      "outputs": [],
      "source": [
        "import pandas as pd\n",
        "import numpy as np\n",
        "\n",
        "# Функція для генерації синтетичних даних для бінарної класифікації\n",
        "def generate_binary_classification_data(num_samples):\n",
        "    # Генерація випадкових оцінок для двох атрибутів (наприклад, дві оцінки студента)\n",
        "    attribute1_grades = np.random.randint(0, 101, size=num_samples)  # Оцінка для атрибуту 1 (0-100)\n",
        "    attribute2_grades = np.random.randint(0, 101, size=num_samples)  # Оцінка для атрибуту 2 (0-100)\n",
        "\n",
        "    # Умова для класифікації: 1, якщо обидва атрибути більше 70, інакше 0\n",
        "    labels = np.where((attribute1_grades > 70) & (attribute2_grades > 70), 1, 0)\n",
        "\n",
        "    # Створення DataFrame з атрибутами та мітками\n",
        "    data = pd.DataFrame({'Attribute1': attribute1_grades, 'Attribute2': attribute2_grades, 'Label': labels})\n",
        "\n",
        "    return data\n",
        "\n",
        "# Генерація даних для бінарної класифікації\n",
        "binary_classification_data = generate_binary_classification_data(1000)  # 1000 записів у наборі даних\n",
        "\n",
        "# Збереження створеного набору даних у CSV файл\n",
        "binary_classification_data.to_csv('binary_classification_data.csv', index=False)\n"
      ]
    }
  ]
}