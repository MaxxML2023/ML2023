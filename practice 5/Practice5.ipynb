{
 "cells": [
  {
   "cell_type": "code",
   "execution_count": null,
   "id": "2b0e2247",
   "metadata": {},
   "outputs": [],
   "source": [
    "#Модель регресії:\n",
    "import tensorflow as tf\n",
    "import numpy as np\n",
    "import matplotlib.pyplot as plt\n",
    "\n",
    "# Згенеруємо синтетичні дані для задачі регресії\n",
    "X = np.random.rand(100, 1)\n",
    "y = 2 * X + 1 + 0.1 * np.random.randn(100, 1)\n",
    "\n",
    "# Створимо модель нейронної мережі для регресії\n",
    "model_regression = tf.keras.Sequential([\n",
    "    tf.keras.layers.Dense(units=1, input_shape=(1,))\n",
    "])\n",
    "\n",
    "# Компіляція моделі для регресії\n",
    "model_regression.compile(optimizer='adam', loss='mean_squared_error')\n",
    "\n",
    "# Навчання моделі\n",
    "model_regression.fit(X, y, epochs=100, verbose=0)\n",
    "\n",
    "# Оцінка результатів\n",
    "y_pred_regression = model_regression.predict(X)\n",
    "\n",
    "# Візуалізація реальних та передбачених значень\n",
    "plt.scatter(X, y, label='Реальні значення', color='blue')\n",
    "plt.scatter(X, y_pred_regression, label='Попередні значення', color='red')\n",
    "plt.legend()\n",
    "plt.xlabel(\"Ознака X\")\n",
    "plt.ylabel(\"Значення y\")\n",
    "plt.show()\n"
   ]
  },
  {
   "cell_type": "code",
   "execution_count": null,
   "id": "c3f3a17c",
   "metadata": {},
   "outputs": [],
   "source": [
    "#Модель класифікації:\n",
    "import tensorflow as tf\n",
    "from sklearn.datasets import make_classification\n",
    "from sklearn.model_selection import train_test_split\n",
    "\n",
    "# Згенеруємо синтетичний набір даних для задачі класифікації\n",
    "X, y = make_classification(n_samples=100, n_features=2, n_classes=2, n_clusters_per_class=1, random_state=42)\n",
    "\n",
    "# Розділимо дані на навчальний та тестовий набори\n",
    "X_train, X_test, y_train, y_test = train_test_split(X, y, test_size=0.2, random_state=42)\n",
    "\n",
    "# Створимо модель нейронної мережі для класифікації\n",
    "model_classification = tf.keras.Sequential([\n",
    "    tf.keras.layers.Input(shape=(2,)),\n",
    "    tf.keras.layers.Dense(units=1, activation='sigmoid')\n",
    "])\n",
    "\n",
    "# Компіляція моделі для класифікації\n",
    "model_classification.compile(optimizer='adam', loss='binary_crossentropy', metrics=['accuracy'])\n",
    "\n",
    "# Навчання моделі\n",
    "model_classification.fit(X_train, y_train, epochs=100, verbose=0)\n",
    "\n",
    "# Оцінка результатів\n",
    "accuracy = model_classification.evaluate(X_test, y_test, verbose=0)[1]\n",
    "print(f\"Точність класифікації: {accuracy}\")\n"
   ]
  }
 ],
 "metadata": {
  "kernelspec": {
   "display_name": "Python 3 (ipykernel)",
   "language": "python",
   "name": "python3"
  },
  "language_info": {
   "codemirror_mode": {
    "name": "ipython",
    "version": 3
   },
   "file_extension": ".py",
   "mimetype": "text/x-python",
   "name": "python",
   "nbconvert_exporter": "python",
   "pygments_lexer": "ipython3",
   "version": "3.11.4"
  }
 },
 "nbformat": 4,
 "nbformat_minor": 5
}
